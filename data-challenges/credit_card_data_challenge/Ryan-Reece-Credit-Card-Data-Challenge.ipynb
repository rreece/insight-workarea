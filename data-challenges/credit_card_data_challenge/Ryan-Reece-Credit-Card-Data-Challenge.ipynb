{
 "cells": [
  {
   "cell_type": "markdown",
   "metadata": {},
   "source": [
    "# Credit Card Data Challenge\n",
    "\n",
    "Ryan Reece    \n",
    "Feb 15, 2018"
   ]
  },
  {
   "cell_type": "markdown",
   "metadata": {},
   "source": [
    "## Inspect the data"
   ]
  },
  {
   "cell_type": "code",
   "execution_count": 1,
   "metadata": {},
   "outputs": [],
   "source": [
    "import math\n",
    "import pandas\n",
    "import time\n",
    "from sklearn.neighbors import NearestNeighbors"
   ]
  },
  {
   "cell_type": "code",
   "execution_count": 2,
   "metadata": {},
   "outputs": [
    {
     "data": {
      "text/html": [
       "<div>\n",
       "<table border=\"1\" class=\"dataframe\">\n",
       "  <thead>\n",
       "    <tr style=\"text-align: right;\">\n",
       "      <th></th>\n",
       "      <th>credit_card</th>\n",
       "      <th>city</th>\n",
       "      <th>state</th>\n",
       "      <th>zipcode</th>\n",
       "      <th>credit_card_limit</th>\n",
       "    </tr>\n",
       "  </thead>\n",
       "  <tbody>\n",
       "    <tr>\n",
       "      <th>0</th>\n",
       "      <td>1280981422329509</td>\n",
       "      <td>Dallas</td>\n",
       "      <td>PA</td>\n",
       "      <td>18612</td>\n",
       "      <td>6000</td>\n",
       "    </tr>\n",
       "    <tr>\n",
       "      <th>1</th>\n",
       "      <td>9737219864179988</td>\n",
       "      <td>Houston</td>\n",
       "      <td>PA</td>\n",
       "      <td>15342</td>\n",
       "      <td>16000</td>\n",
       "    </tr>\n",
       "    <tr>\n",
       "      <th>2</th>\n",
       "      <td>4749889059323202</td>\n",
       "      <td>Auburn</td>\n",
       "      <td>MA</td>\n",
       "      <td>1501</td>\n",
       "      <td>14000</td>\n",
       "    </tr>\n",
       "    <tr>\n",
       "      <th>3</th>\n",
       "      <td>9591503562024072</td>\n",
       "      <td>Orlando</td>\n",
       "      <td>WV</td>\n",
       "      <td>26412</td>\n",
       "      <td>18000</td>\n",
       "    </tr>\n",
       "    <tr>\n",
       "      <th>4</th>\n",
       "      <td>2095640259001271</td>\n",
       "      <td>New York</td>\n",
       "      <td>NY</td>\n",
       "      <td>10001</td>\n",
       "      <td>20000</td>\n",
       "    </tr>\n",
       "  </tbody>\n",
       "</table>\n",
       "</div>"
      ],
      "text/plain": [
       "        credit_card      city state  zipcode  credit_card_limit\n",
       "0  1280981422329509    Dallas    PA    18612               6000\n",
       "1  9737219864179988   Houston    PA    15342              16000\n",
       "2  4749889059323202    Auburn    MA     1501              14000\n",
       "3  9591503562024072   Orlando    WV    26412              18000\n",
       "4  2095640259001271  New York    NY    10001              20000"
      ]
     },
     "execution_count": 2,
     "metadata": {},
     "output_type": "execute_result"
    }
   ],
   "source": [
    "df_cc = pandas.read_csv('cc_info.csv')\n",
    "df_cc.head(5)"
   ]
  },
  {
   "cell_type": "code",
   "execution_count": 3,
   "metadata": {},
   "outputs": [
    {
     "data": {
      "text/html": [
       "<div>\n",
       "<table border=\"1\" class=\"dataframe\">\n",
       "  <thead>\n",
       "    <tr style=\"text-align: right;\">\n",
       "      <th></th>\n",
       "      <th>credit_card</th>\n",
       "      <th>date</th>\n",
       "      <th>transaction_dollar_amount</th>\n",
       "      <th>Long</th>\n",
       "      <th>Lat</th>\n",
       "    </tr>\n",
       "  </thead>\n",
       "  <tbody>\n",
       "    <tr>\n",
       "      <th>0</th>\n",
       "      <td>1003715054175576</td>\n",
       "      <td>2015-09-11 00:32:40</td>\n",
       "      <td>43.78</td>\n",
       "      <td>-80.174132</td>\n",
       "      <td>40.267370</td>\n",
       "    </tr>\n",
       "    <tr>\n",
       "      <th>1</th>\n",
       "      <td>1003715054175576</td>\n",
       "      <td>2015-10-24 22:23:08</td>\n",
       "      <td>103.15</td>\n",
       "      <td>-80.194240</td>\n",
       "      <td>40.180114</td>\n",
       "    </tr>\n",
       "    <tr>\n",
       "      <th>2</th>\n",
       "      <td>1003715054175576</td>\n",
       "      <td>2015-10-26 18:19:36</td>\n",
       "      <td>48.55</td>\n",
       "      <td>-80.211033</td>\n",
       "      <td>40.313004</td>\n",
       "    </tr>\n",
       "    <tr>\n",
       "      <th>3</th>\n",
       "      <td>1003715054175576</td>\n",
       "      <td>2015-10-22 19:41:10</td>\n",
       "      <td>136.18</td>\n",
       "      <td>-80.174138</td>\n",
       "      <td>40.290895</td>\n",
       "    </tr>\n",
       "    <tr>\n",
       "      <th>4</th>\n",
       "      <td>1003715054175576</td>\n",
       "      <td>2015-10-26 20:08:22</td>\n",
       "      <td>71.82</td>\n",
       "      <td>-80.238720</td>\n",
       "      <td>40.166719</td>\n",
       "    </tr>\n",
       "  </tbody>\n",
       "</table>\n",
       "</div>"
      ],
      "text/plain": [
       "        credit_card                 date  transaction_dollar_amount  \\\n",
       "0  1003715054175576  2015-09-11 00:32:40                      43.78   \n",
       "1  1003715054175576  2015-10-24 22:23:08                     103.15   \n",
       "2  1003715054175576  2015-10-26 18:19:36                      48.55   \n",
       "3  1003715054175576  2015-10-22 19:41:10                     136.18   \n",
       "4  1003715054175576  2015-10-26 20:08:22                      71.82   \n",
       "\n",
       "        Long        Lat  \n",
       "0 -80.174132  40.267370  \n",
       "1 -80.194240  40.180114  \n",
       "2 -80.211033  40.313004  \n",
       "3 -80.174138  40.290895  \n",
       "4 -80.238720  40.166719  "
      ]
     },
     "execution_count": 3,
     "metadata": {},
     "output_type": "execute_result"
    }
   ],
   "source": [
    "df_tx = pandas.read_csv('transactions.csv')\n",
    "df_tx.head(5)"
   ]
  },
  {
   "cell_type": "code",
   "execution_count": 4,
   "metadata": {},
   "outputs": [
    {
     "name": "stdout",
     "output_type": "stream",
     "text": [
      "984 cards, 294588 transactions\n"
     ]
    }
   ],
   "source": [
    "print '%i cards, %i transactions' % (len(df_cc), len(df_tx))"
   ]
  },
  {
   "cell_type": "markdown",
   "metadata": {},
   "source": [
    "## 1. Find users never over limit"
   ]
  },
  {
   "cell_type": "code",
   "execution_count": 5,
   "metadata": {},
   "outputs": [],
   "source": [
    "def get_limits(df):\n",
    "    limits = dict()\n",
    "    for index, row in df_cc.iterrows():\n",
    "        limits[row['credit_card']] = row['credit_card_limit']\n",
    "    return limits\n",
    "    \n",
    "def calculate_monthly_ballances(df):\n",
    "    ballances = dict()\n",
    "    for index, row in df_tx.iterrows():\n",
    "        card = row['credit_card']\n",
    "        date_str = row['date']\n",
    "        date_obj = time.strptime(date_str, '%Y-%m-%d %H:%M:%S')\n",
    "        year = date_obj.tm_year\n",
    "        month = date_obj.tm_mon\n",
    "        amount = row['transaction_dollar_amount']\n",
    "        ballances.setdefault((card, year, month), 0.0)\n",
    "        ballances[(card, year, month)] += amount\n",
    "    return ballances\n",
    "\n",
    "def calculate_users_never_over_limit(ballances, limits):\n",
    "    cards = limits.keys()\n",
    "    cards.sort()\n",
    "    good_cards = set(cards)\n",
    "    for _k, _v in ballances.iteritems():\n",
    "        card, year, month = _k\n",
    "        ballance = _v\n",
    "        limit = limits[card]\n",
    "        if ballance > limit:\n",
    "            good_cards.discard(card)\n",
    "    good_cards = list(good_cards)\n",
    "    good_cards.sort()\n",
    "    return good_cards"
   ]
  },
  {
   "cell_type": "code",
   "execution_count": 6,
   "metadata": {},
   "outputs": [],
   "source": [
    "limits = get_limits(df_cc)\n",
    "cards = limits.keys()\n",
    "cards.sort()\n",
    "ballances = calculate_monthly_ballances(df_tx)\n",
    "good_cards = calculate_users_never_over_limit(ballances, limits)"
   ]
  },
  {
   "cell_type": "code",
   "execution_count": 7,
   "metadata": {},
   "outputs": [
    {
     "name": "stdout",
     "output_type": "stream",
     "text": [
      "There are 862 cards that are never over limit.\n"
     ]
    }
   ],
   "source": [
    "print 'There are %i cards that are never over limit.' % len(good_cards)"
   ]
  },
  {
   "cell_type": "code",
   "execution_count": 8,
   "metadata": {},
   "outputs": [
    {
     "name": "stdout",
     "output_type": "stream",
     "text": [
      "The first 5 cards are:\n",
      "[1003715054175576, 1013870087888817, 1023820165155391, 1073931538936472, 1077622576192810]\n"
     ]
    }
   ],
   "source": [
    "print 'The first 5 cards are:'\n",
    "print good_cards[:5]"
   ]
  },
  {
   "cell_type": "markdown",
   "metadata": {},
   "source": [
    "## 2. Find users over limit on a certain day"
   ]
  },
  {
   "cell_type": "code",
   "execution_count": 9,
   "metadata": {},
   "outputs": [],
   "source": [
    "def calculate_ballances_for_day(df, year, month, day):\n",
    "    ballances = dict()\n",
    "    for index, row in df_tx.iterrows():\n",
    "        card = row['credit_card']\n",
    "        date_str = row['date']\n",
    "        date_obj = time.strptime(date_str, '%Y-%m-%d %H:%M:%S')\n",
    "        _year = date_obj.tm_year\n",
    "        _month = date_obj.tm_mon\n",
    "        _day = date_obj.tm_mday\n",
    "        if _year == year and _month == month and _day <= day:\n",
    "            amount = row['transaction_dollar_amount']\n",
    "            ballances.setdefault(card, 0.0)\n",
    "            ballances[card] += amount\n",
    "    return ballances\n",
    "\n",
    "def calculate_users_over_limit(ballances, limits):\n",
    "    cards = limits.keys()\n",
    "    cards.sort()\n",
    "    bad_cards = set()\n",
    "    for _k, _v in ballances.iteritems():\n",
    "        card = _k\n",
    "        ballance = _v\n",
    "        limit = limits[card]\n",
    "        if ballance > limit:\n",
    "            bad_cards.add(card)\n",
    "    bad_cards = list(bad_cards)\n",
    "    bad_cards.sort()\n",
    "    return bad_cards"
   ]
  },
  {
   "cell_type": "code",
   "execution_count": 10,
   "metadata": {},
   "outputs": [],
   "source": [
    "year = 2015\n",
    "month = 10\n",
    "day = 28\n",
    "ballances = calculate_ballances_for_day(df_tx, year, month, day)\n",
    "bad_cards = calculate_users_over_limit(ballances, limits)"
   ]
  },
  {
   "cell_type": "code",
   "execution_count": 11,
   "metadata": {},
   "outputs": [
    {
     "name": "stdout",
     "output_type": "stream",
     "text": [
      "There are 62 cards that are over limit on 2015/10/28.\n"
     ]
    }
   ],
   "source": [
    "print 'There are %i cards that are over limit on %i/%i/%i.' % (len(bad_cards), year, month, day)"
   ]
  },
  {
   "cell_type": "markdown",
   "metadata": {},
   "source": [
    "You can make calls like above on every day to know the users over limit on that day.  If you want to know if a user goes over limit *on* that day, you could keep a set of users currently over limit and keep track of when a new users is added."
   ]
  },
  {
   "cell_type": "markdown",
   "metadata": {},
   "source": [
    "## 3. Anomaly detection"
   ]
  },
  {
   "cell_type": "markdown",
   "metadata": {},
   "source": [
    "I use two different strategies:\n",
    "\n",
    "1.  `find_anomalous_transactions_by_amount(df, card, n_sigma)` returns anomalies determined by calculating the mean and standard deviation amount and counting a transaction as anomalous if the amount is `n_sigma` standard deviations above the mean.  Currently using `n_sigma = 4`.\n",
    "\n",
    "2.   `find_anomalous_transactions_by_location(df, card, n_neighbors, max_dist)` returns anomalies determined location. Uses nearest neighbors algorithm to find the n-th (`n_neighbors`) nearest neighbor and counts the transaction as anomalous if the distance in lat-long space is larger than `max_dist`.  Currently using `n_neighbors = 3` and `max_dist = 2.0`."
   ]
  },
  {
   "cell_type": "code",
   "execution_count": 20,
   "metadata": {},
   "outputs": [],
   "source": [
    "def find_anomalous_transactions_by_amount(df, card, n_sigma):\n",
    "    count = 0\n",
    "    avg   = 0.0\n",
    "    std   = 0.0\n",
    "    for index, row in df_tx.iterrows():\n",
    "        _card = row['credit_card']\n",
    "        if _card == card:\n",
    "            amount = row['transaction_dollar_amount']\n",
    "            count += 1\n",
    "            avg   += amount\n",
    "            std   += amount*amount\n",
    "    avg = avg / count\n",
    "    std = std / count\n",
    "    std = std - avg*avg\n",
    "    std = math.sqrt(std)\n",
    "    anomalies = list()\n",
    "    if count > 3:\n",
    "        for index, row in df_tx.iterrows():\n",
    "            _card = row['credit_card']\n",
    "            if _card == card:\n",
    "                amount = row['transaction_dollar_amount']\n",
    "                if amount > n_sigma*std + avg:\n",
    "                    date_str = row['date']\n",
    "                    date_obj = time.strptime(date_str, '%Y-%m-%d %H:%M:%S')\n",
    "                    _year = date_obj.tm_year\n",
    "                    _month = date_obj.tm_mon\n",
    "                    _day = date_obj.tm_mday\n",
    "                    anomalies.append((card, year, month, day, amount, ['amount', avg, std]))\n",
    "    return anomalies\n",
    "\n",
    "def find_anomalous_transactions_by_location(df, card, n_neighbors, max_dist):\n",
    "    locations = list()\n",
    "    dates = list()\n",
    "    for index, row in df_tx.iterrows():\n",
    "        _card = row['credit_card']\n",
    "        if _card == card:\n",
    "            date_str = row['date']\n",
    "            date_obj = time.strptime(date_str, '%Y-%m-%d %H:%M:%S')\n",
    "            _year = date_obj.tm_year\n",
    "            _month = date_obj.tm_mon\n",
    "            _day = date_obj.tm_mday\n",
    "            _lat = row['Lat']\n",
    "            _long = row['Long']\n",
    "            locations.append([_lat, _long])\n",
    "            dates.append((_year, _month, _day))\n",
    "    nn = NearestNeighbors(n_neighbors=n_neighbors)\n",
    "    nn.fit(locations)\n",
    "    neighbor_distances, neighbor_indexes = nn.kneighbors(locations)\n",
    "    anomalies = list()\n",
    "    for i, dists in enumerate(neighbor_distances):\n",
    "        assert len(dists) == n_neighbors\n",
    "        dist = dists[-1] # distance to n-th nearest neighbor\n",
    "        if dist > max_dist:\n",
    "            neighbors = neighbor_indexes[i]\n",
    "            year, month, day = dates[neighbors[0]]\n",
    "            anomalies.append((card, year, month, day, dist, ['location', locations[neighbors[0]], locations[neighbors[1]]]))\n",
    "    return anomalies"
   ]
  },
  {
   "cell_type": "code",
   "execution_count": 21,
   "metadata": {},
   "outputs": [],
   "source": [
    "anomalies = find_anomalous_transactions_by_amount(df_tx, 1003715054175576, 4)"
   ]
  },
  {
   "cell_type": "code",
   "execution_count": 22,
   "metadata": {},
   "outputs": [
    {
     "name": "stdout",
     "output_type": "stream",
     "text": [
      "6 anomalies found.\n",
      "[(1003715054175576, 2015, 10, 28, 995.35, ['amount', 110.49747126436785, 128.87336593136322]), (1003715054175576, 2015, 10, 28, 818.47, ['amount', 110.49747126436785, 128.87336593136322]), (1003715054175576, 2015, 10, 28, 888.04, ['amount', 110.49747126436785, 128.87336593136322]), (1003715054175576, 2015, 10, 28, 859.31, ['amount', 110.49747126436785, 128.87336593136322]), (1003715054175576, 2015, 10, 28, 925.78, ['amount', 110.49747126436785, 128.87336593136322])]\n"
     ]
    }
   ],
   "source": [
    "print '%i anomalies found.' % (len(anomalies))\n",
    "print anomalies[:5]"
   ]
  },
  {
   "cell_type": "code",
   "execution_count": 23,
   "metadata": {},
   "outputs": [],
   "source": [
    "anomalies = find_anomalous_transactions_by_location(df_tx, 1003715054175576, 3, 2.0)"
   ]
  },
  {
   "cell_type": "code",
   "execution_count": 24,
   "metadata": {},
   "outputs": [
    {
     "name": "stdout",
     "output_type": "stream",
     "text": [
      "6 anomalies found.\n",
      "[(1003715054175576, 2015, 9, 17, 38.603115390703429, ['location', [34.745014519984004, -2.83317873024418], [36.1881230051067, 8.360145344929201]]), (1003715054175576, 2015, 9, 18, 62.108195722395109, ['location', [25.1257488771669, 69.4752159457624], [24.659874274725198, 34.4292750818899]]), (1003715054175576, 2015, 9, 8, 35.049037221858875, ['location', [24.659874274725198, 34.4292750818899], [36.1881230051067, 8.360145344929201]]), (1003715054175576, 2015, 10, 25, 88.428319235814172, ['location', [-32.343578020098704, 102.03233765558399], [25.1257488771669, 69.4752159457624]]), (1003715054175576, 2015, 9, 25, 50.488328384175219, ['location', [-11.785998850623699, -7.37373323601339], [34.745014519984004, -2.83317873024418]])]\n"
     ]
    }
   ],
   "source": [
    "print '%i anomalies found.' % (len(anomalies))\n",
    "print anomalies[:5]"
   ]
  },
  {
   "cell_type": "markdown",
   "metadata": {},
   "source": [
    "If I had more time, I would explore more how robust the anomaly detection by nearest-neighbors location is.  I realized I could also implement a simpler version that works like the `find_anomalous_transactions_by_amount`, calculating the mean and standard deviation of lat and long and having a threshold of anomalous deviations."
   ]
  },
  {
   "cell_type": "markdown",
   "metadata": {},
   "source": [
    "## Scratch"
   ]
  },
  {
   "cell_type": "code",
   "execution_count": null,
   "metadata": {},
   "outputs": [],
   "source": [
    "\"\"\"\n",
    "def calculate_card_spending_stats(df):\n",
    "    avgs   = dict()\n",
    "    stds   = dict()\n",
    "    counts = dict()\n",
    "    for index, row in df_tx.iterrows():\n",
    "        card = row['credit_card']\n",
    "        amount = row['transaction_dollar_amount']\n",
    "        avgs.setdefault(card, 0.0)\n",
    "        stds.setdefault(card, 0.0)\n",
    "        counts.setdefault(card, 0.0)\n",
    "        avgs[card]   += amount\n",
    "        stds[card]   += amount*amount\n",
    "        counts[card] += 1\n",
    "    cards = avgs.keys()\n",
    "    cards.sort()\n",
    "    card_spending_stats = dict()\n",
    "    for card in cards:\n",
    "        avgs[card] = avgs[card] / counts[card]\n",
    "        stds[card] = stds[card] / counts[card]\n",
    "        stds[card] -= avgs[card]*avgs[card]\n",
    "        stds[card] = math.sqrt(stds[card])\n",
    "        card_spending_stats[card] = counts[card], avgs[card], stds[card]\n",
    "    return card_spending_stats\n",
    "\"\"\""
   ]
  },
  {
   "cell_type": "code",
   "execution_count": null,
   "metadata": {},
   "outputs": [],
   "source": [
    "\"\"\"\n",
    "def find_anomalous_transactions_by_location(df, card, max_dist):\n",
    "    count = 0\n",
    "    avg_lat = 0.0\n",
    "    avg_long = 0.0\n",
    "    std   = 0.0\n",
    "    for index, row in df_tx.iterrows():\n",
    "        _card = row['credit_card']\n",
    "        if _card == card:\n",
    "            amount = row['transaction_dollar_amount']\n",
    "            _lat   = row['Lat']\n",
    "            _long  = row['Long']\n",
    "            count += 1\n",
    "            avg_lat += _lat\n",
    "            avg_long+= _long\n",
    "    avg = avg / count\n",
    "    std = std / count\n",
    "    std = std - avg*avg\n",
    "    std = math.sqrt(std)\n",
    "    anomalies = list()\n",
    "    if count > 3:\n",
    "        for index, row in df_tx.iterrows():\n",
    "            _card = row['credit_card']\n",
    "            if _card == card:\n",
    "                amount = row['transaction_dollar_amount']\n",
    "                if amount > n_sigma*std + avg:\n",
    "                    date_str = row['date']\n",
    "                    date_obj = time.strptime(date_str, '%Y-%m-%d %H:%M:%S')\n",
    "                    _year = date_obj.tm_year\n",
    "                    _month = date_obj.tm_mon\n",
    "                    _day = date_obj.tm_mday\n",
    "                    anomalies.append((card, year, month, day, amount, ['amount', avg, std]))\n",
    "    return anomalies\n",
    "\"\"\""
   ]
  }
 ],
 "metadata": {
  "kernelspec": {
   "display_name": "Python 2",
   "language": "python",
   "name": "python2"
  },
  "language_info": {
   "codemirror_mode": {
    "name": "ipython",
    "version": 2
   },
   "file_extension": ".py",
   "mimetype": "text/x-python",
   "name": "python",
   "nbconvert_exporter": "python",
   "pygments_lexer": "ipython2",
   "version": "2.7.13"
  }
 },
 "nbformat": 4,
 "nbformat_minor": 2
}
