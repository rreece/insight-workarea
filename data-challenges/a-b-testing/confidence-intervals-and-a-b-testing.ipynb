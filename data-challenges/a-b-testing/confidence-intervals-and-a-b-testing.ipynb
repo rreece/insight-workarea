{
 "cells": [
  {
   "cell_type": "markdown",
   "metadata": {},
   "source": [
    "# Confidence intervals and A/B testing\n",
    "\n",
    "Ryan Reece     \n",
    "2018-02-26"
   ]
  },
  {
   "cell_type": "markdown",
   "metadata": {},
   "source": [
    "## Introduction\n",
    "\n",
    "TODO."
   ]
  },
  {
   "cell_type": "markdown",
   "metadata": {},
   "source": [
    "When looking testing for discrepancy/consistency, we want to note when a $p$-value is especially small.  The absolute threshold for notability is somewhat arbitrary and dependent on domain and our tolerances for false-positives and negatives.  Typically, one will note when a statistic is outside of \n",
    "\n",
    "| Confidence Level |  z*-value |\n",
    "|-----------------:|----------:|\n",
    "|              80% |      1.28 |\n",
    "|              85% |      1.44 |\n",
    "|              90% |      1.64 |\n",
    "|              95% |      1.96 |\n",
    "|              98% |      2.33 |\n",
    "|              99% |      2.58 |"
   ]
  },
  {
   "cell_type": "markdown",
   "metadata": {},
   "source": [
    "| Confidence interval [$\\sigma$]  |  Fraction inside [%] |  Fraction outside [%] |      Fraction outside |\n",
    "|-------------------------------:|---------------------:|----------------------:|----------------------:|\n",
    "|                       0.674490 |                   50 |                    50 |                 1 / 2 | \n",
    "|                       0.994458 |                   68 |                    32 |             1 / 3.125 |\n",
    "|                              1 |           68.2689492 |            31.7310508 |         1 / 3.1514872 |\n",
    "|                       1.281552 |                   80 |                    20 |                 1 / 5 | \n",
    "|                       1.644854 |                   90 |                    10 |                1 / 10 |\n",
    "|                       1.959964 |                   95 |                     5 |                1 / 20 |\n",
    "|                              2 |           95.4499736 |             4.5500264 |         1 / 21.977895 |\n",
    "|                       2.575829 |                   99 |                     1 |               1 / 100 |\n",
    "|                              3 |           99.7300204 |             0.2699796 |           1 / 370.398 |\n",
    "|                       3.290527 |                 99.9 |                   0.1 |              1 / 1000 |\n",
    "|                       3.890592 |                99.99 |                  0.01 |             1 / 10000 |\n",
    "|                              4 |            99.993666 |              0.006334 |             1 / 15787 |\n",
    "|                       4.417173 |               99.999 |                 0.001 |            1 / 100000 |\n",
    "|                            4.5 |     99.9993204653751 |       0.0006795346249 |         3.4 / 1000000 |\n",
    "|                       4.891638 |              99.9999 |                0.0001 |           1 / 1000000 |\n",
    "|                              5 |        99.9999426697 |          0.0000573303 |           1 / 1744278 |\n",
    "|                       5.326724 |             99.99999 |               0.00001 |          1 / 10000000 |\n",
    "|                       5.730729 |            99.999999 |              0.000001 |         1 / 100000000 |\n",
    "|                              6 |        99.9999998027 |          0.0000001973 |         1 / 506797346 |\n",
    "|                       6.109410 |           99.9999999 |             0.0000001 |        1 / 1000000000 |\n",
    "|                       6.466951 |          99.99999999 |            0.00000001 |       1 / 10000000000 |\n",
    "|                       6.806502 |         99.999999999 |           0.000000001 |      1 / 100000000000 |\n",
    "|                              7 |     99.9999999997440 |        0.000000000256 |      1 / 390682215445 |\n",
    "\n",
    "From: [Wikipedia: Standard deviation](https://en.wikipedia.org/wiki/Standard_deviation)"
   ]
  },
  {
   "cell_type": "code",
   "execution_count": 1,
   "metadata": {},
   "outputs": [],
   "source": [
    "## imports\n",
    "import csv\n",
    "\n",
    "import numpy as np\n",
    "np.random.seed(777) # for DEBUG\n",
    "\n",
    "import matplotlib\n",
    "#matplotlib.use(\"Agg\") # suppress the python rocketship icon popup\n",
    "import matplotlib.pyplot as plt\n",
    "\n",
    "import scipy.stats as stats\n",
    "import pandas as pd\n",
    "\n",
    "plt.style.use('seaborn-deep')\n",
    "plt.rcParams['legend.numpoints'] = 1\n",
    "plt.rcParams['figure.figsize'] = 8, 8\n",
    "plt.rcParams['font.size'] = 18\n"
   ]
  },
  {
   "cell_type": "markdown",
   "metadata": {},
   "source": [
    "## Generate some toy data"
   ]
  },
  {
   "cell_type": "code",
   "execution_count": 2,
   "metadata": {},
   "outputs": [
    {
     "name": "stdout",
     "output_type": "stream",
     "text": [
      "Generating data\n",
      "Saving csv\n",
      "Saved data to toy2d.csv\n"
     ]
    }
   ],
   "source": [
    "#______________________________________________________________________________\n",
    "def generate_data(n_dim=2, n_class=2, n_points=400, purities=None):\n",
    "\n",
    "    assert n_dim == 2\n",
    "    assert n_class in (2, 3, 4)\n",
    "\n",
    "    ## setup purities\n",
    "    if purities == None:\n",
    "        assert n_class > 0\n",
    "        purity_share = 1.0/n_class\n",
    "        purities = tuple([purity_share]*n_class)\n",
    "    assert sum(purities) == 1.0\n",
    "    \n",
    "    ## HACK: hardcoded\n",
    "    ## setup variables\n",
    "    var_names = dict()\n",
    "    label_names = dict()\n",
    "    means = dict()\n",
    "    covs = dict()\n",
    "    if n_dim == 2:\n",
    "        var_names[0] = 'x'\n",
    "        var_names[1] = 'y'\n",
    "        label_names[0] = 0\n",
    "        label_names[1] = 1\n",
    "        label_names[2] = 2\n",
    "        label_names[3] = 3\n",
    "        means[0] = [0.0, 0.0]\n",
    "        means[1] = [1.0, 1.0]\n",
    "        means[2] = [1.0, -1.0]\n",
    "        means[3] = [0.8, -1.5]\n",
    "        covs[0]  = [[0.1, 0.0], [0.0, 0.1]]\n",
    "        covs[1]  = [[0.3, 0.0], [0.0, 0.1]]\n",
    "        covs[2]  = [[0.02, 0.0], [0.0, 0.02]]\n",
    "        covs[3]  = [[0.02, 0.0], [0.0, 0.02]]\n",
    "    elif n_dim == 3:\n",
    "        pass\n",
    "    \n",
    "    ## setup csv header\n",
    "    data_header = list()\n",
    "    for i_dim in range(n_dim):\n",
    "        data_header.append( var_names[i_dim] )\n",
    "    data_header.append('label')\n",
    "    \n",
    "    ## generate data for each class\n",
    "    data_gen = list()\n",
    "    for i_class in range(n_class):\n",
    "        data_for_class = list()\n",
    "        _p = purities[i_class]\n",
    "        _n = int(round(n_points*_p))\n",
    "        label_name = label_names[i_class]\n",
    "        for rep in np.random.multivariate_normal(means[i_class], covs[i_class], _n):\n",
    "            rep_list = list(rep)\n",
    "            rep_list.append(label_name)\n",
    "            data_for_class.append(rep_list)\n",
    "        data_gen.extend(data_for_class)\n",
    "        \n",
    "    np.random.shuffle(data_gen)\n",
    "    data = list()\n",
    "    data.append(data_header)\n",
    "    data.extend(data_gen)\n",
    "    return data\n",
    "\n",
    "\n",
    "#______________________________________________________________________________\n",
    "def save_to_csv(data, csvfile='out.csv'):\n",
    "    with open(csvfile, 'w') as f:\n",
    "        writer = csv.writer(f)\n",
    "        writer.writerows(data)\n",
    "        f.close()\n",
    "\n",
    "#==============================================\n",
    "\n",
    "csvfile = 'toy2d.csv'\n",
    "print 'Generating data'\n",
    "data = generate_data(n_dim=2, n_class=3, n_points=500, purities=(0.5, 0.3, 0.2))\n",
    "print 'Saving csv'\n",
    "save_to_csv(data, csvfile)\n",
    "print 'Saved data to %s' % csvfile"
   ]
  },
  {
   "cell_type": "code",
   "execution_count": 3,
   "metadata": {},
   "outputs": [],
   "source": [
    "df = pd.read_csv('toy2d.csv')"
   ]
  },
  {
   "cell_type": "code",
   "execution_count": 4,
   "metadata": {},
   "outputs": [
    {
     "data": {
      "text/html": [
       "<div>\n",
       "<table border=\"1\" class=\"dataframe\">\n",
       "  <thead>\n",
       "    <tr style=\"text-align: right;\">\n",
       "      <th></th>\n",
       "      <th>x</th>\n",
       "      <th>y</th>\n",
       "      <th>label</th>\n",
       "    </tr>\n",
       "  </thead>\n",
       "  <tbody>\n",
       "    <tr>\n",
       "      <th>0</th>\n",
       "      <td>-0.548785</td>\n",
       "      <td>0.069384</td>\n",
       "      <td>0</td>\n",
       "    </tr>\n",
       "    <tr>\n",
       "      <th>1</th>\n",
       "      <td>0.980696</td>\n",
       "      <td>-1.140706</td>\n",
       "      <td>2</td>\n",
       "    </tr>\n",
       "    <tr>\n",
       "      <th>2</th>\n",
       "      <td>0.682714</td>\n",
       "      <td>1.075991</td>\n",
       "      <td>1</td>\n",
       "    </tr>\n",
       "    <tr>\n",
       "      <th>3</th>\n",
       "      <td>-0.071488</td>\n",
       "      <td>-0.277847</td>\n",
       "      <td>0</td>\n",
       "    </tr>\n",
       "    <tr>\n",
       "      <th>4</th>\n",
       "      <td>0.543341</td>\n",
       "      <td>-0.085672</td>\n",
       "      <td>0</td>\n",
       "    </tr>\n",
       "  </tbody>\n",
       "</table>\n",
       "</div>"
      ],
      "text/plain": [
       "          x         y  label\n",
       "0 -0.548785  0.069384      0\n",
       "1  0.980696 -1.140706      2\n",
       "2  0.682714  1.075991      1\n",
       "3 -0.071488 -0.277847      0\n",
       "4  0.543341 -0.085672      0"
      ]
     },
     "execution_count": 4,
     "metadata": {},
     "output_type": "execute_result"
    }
   ],
   "source": [
    "df.head()"
   ]
  },
  {
   "cell_type": "code",
   "execution_count": 5,
   "metadata": {},
   "outputs": [
    {
     "name": "stdout",
     "output_type": "stream",
     "text": [
      "<class 'pandas.core.frame.DataFrame'>\n",
      "RangeIndex: 500 entries, 0 to 499\n",
      "Data columns (total 3 columns):\n",
      "x        500 non-null float64\n",
      "y        500 non-null float64\n",
      "label    500 non-null int64\n",
      "dtypes: float64(2), int64(1)\n",
      "memory usage: 11.8 KB\n"
     ]
    }
   ],
   "source": [
    "df.info()"
   ]
  },
  {
   "cell_type": "code",
   "execution_count": 6,
   "metadata": {},
   "outputs": [
    {
     "data": {
      "image/png": "[encoded data removed]",
      "text/plain": [
       "<matplotlib.figure.Figure at 0x109266690>"
      ]
     },
     "metadata": {},
     "output_type": "display_data"
    },
    {
     "data": {
      "image/png": "[encoded data removed]",
      "text/plain": [
       "<matplotlib.figure.Figure at 0x1093de390>"
      ]
     },
     "metadata": {},
     "output_type": "display_data"
    },
    {
     "data": {
      "image/png": "[encoded data removed]",
      "text/plain": [
       "<matplotlib.figure.Figure at 0x1093de310>"
      ]
     },
     "metadata": {},
     "output_type": "display_data"
    }
   ],
   "source": [
    "#______________________________________________________________________________\n",
    "def scatter_plot(df, x, y):\n",
    "    df_groupby = df.groupby('label')\n",
    "    colors = pd.tools.plotting._get_standard_colors(len(df_groupby), color_type='default')\n",
    "    fig, ax = plt.subplots()\n",
    "    ax.margins(0.05)\n",
    "    for i_grp, group in enumerate(df_groupby):\n",
    "        label, df_group = group\n",
    "        ax.plot(df_group[x], df_group[y], marker='o', linestyle='', ms=12, label=label, color=colors[i_grp], alpha=0.6)\n",
    "    plt.xlabel(x)\n",
    "    plt.ylabel(y)\n",
    "    ax.legend(numpoints=1, loc='upper right')\n",
    "    plt.show()\n",
    "    return fig, ax\n",
    "\n",
    "#______________________________________________________________________________\n",
    "def histogram(df, var, by, bins=10):\n",
    "    group_labels = df[by].unique()\n",
    "    group_labels.sort()\n",
    "    colors = pd.tools.plotting._get_standard_colors(len(group_labels), color_type='default')\n",
    "    fig, ax = plt.subplots()\n",
    "    for i_grp, label in enumerate(group_labels):\n",
    "        df[df[by]==label][var].hist(bins=bins, label=str(label), color=colors[i_grp], edgecolor=colors[i_grp], alpha=0.6)\n",
    "    plt.xlabel(var)\n",
    "    ax.legend(loc='upper right')\n",
    "    plt.show()\n",
    "    return fig, ax\n",
    "\n",
    "#==============================================\n",
    "fig, ax = scatter_plot(df, x='x', y='y')\n",
    "fig, ax = histogram(df, var='x', by='label', bins=np.arange(-1, 3, 0.1))\n",
    "fig, ax = histogram(df, var='y', by='label', bins=np.arange(-1, 3, 0.1))"
   ]
  },
  {
   "cell_type": "code",
   "execution_count": null,
   "metadata": {},
   "outputs": [],
   "source": []
  },
  {
   "cell_type": "code",
   "execution_count": null,
   "metadata": {},
   "outputs": [],
   "source": []
  },
  {
   "cell_type": "markdown",
   "metadata": {},
   "source": [
    "## $z$ statistic\n",
    "\n",
    "TODO:\n",
    "\n",
    "-   normally distributed\n",
    "-   used when variance is known\n",
    "\n",
    "$Z = \\frac{{\\bar{X}}-\\mu}{{\\sigma \\: /\\sqrt{n}}}$\n"
   ]
  },
  {
   "cell_type": "code",
   "execution_count": 7,
   "metadata": {},
   "outputs": [
    {
     "data": {
      "image/png": "[encoded data removed]",
      "text/plain": [
       "<matplotlib.figure.Figure at 0x109205110>"
      ]
     },
     "metadata": {},
     "output_type": "display_data"
    }
   ],
   "source": [
    "xdata0 = df[df['label']==0]['x']\n",
    "zscores = stats.zscore(xdata0, ddof=1)\n",
    "stuff = plt.hist(zscores, bins=np.arange(-3, 3, 0.2), alpha=0.6)\n",
    "stuff1 = plt.xlabel('z')"
   ]
  },
  {
   "cell_type": "code",
   "execution_count": 8,
   "metadata": {},
   "outputs": [
    {
     "data": {
      "image/png": "[encoded data removed]",
      "text/plain": [
       "<matplotlib.figure.Figure at 0x1095efb50>"
      ]
     },
     "metadata": {},
     "output_type": "display_data"
    }
   ],
   "source": [
    "#p_values = stats.norm.sf(abs(zscores)) # one-sided\n",
    "#p_values2 = stats.norm.sf(abs(zscores))*2 # twosided\n",
    "p_values = stats.norm.sf(zscores)\n",
    "stuff = plt.hist(p_values, bins=np.arange(0.0, 1.0, 0.02), alpha=0.6)\n",
    "stuff1 = plt.xlabel('$p$-value')"
   ]
  },
  {
   "cell_type": "markdown",
   "metadata": {},
   "source": [
    "## $t$ statistic\n",
    "\n",
    "The [$t$-test](https://en.wikipedia.org/wiki/Student%27s_t-test) is a statistical hypothesis test can be used to determine if sets of data are significantly different from each other.  A $t$-test is most commonly used when the test statistic, $t$, would follow a normal distribution if the value of a scaling term were known. When the scaling term is unknown and is replaced by an estimate based on the data, the test statistic (under certain conditions) follows a [Student's $t$ distribution](https://en.wikipedia.org/wiki/Student%27s_t-distribution).\n",
    "\n",
    "$t={\\frac {Z}{s}}={\\frac {\\left({\\bar {X}}-\\mu \\right)\\left/\\left({\\frac {\\sigma }{\\sqrt {n}}}\\right)\\right.}{s}}$\n",
    "\n",
    "TODO:\n",
    "\n",
    "-   used when variance is unknown"
   ]
  },
  {
   "cell_type": "markdown",
   "metadata": {},
   "source": [
    "First, let's do a 1-sample t-test with the data of one variable from one class (`label=0`)."
   ]
  },
  {
   "cell_type": "code",
   "execution_count": 9,
   "metadata": {},
   "outputs": [
    {
     "name": "stdout",
     "output_type": "stream",
     "text": [
      "t = 1.2193\n",
      "p = 0.22389\n"
     ]
    }
   ],
   "source": [
    "result = stats.ttest_1samp(xdata0, 0.0)\n",
    "t = result.statistic\n",
    "p = result.pvalue\n",
    "print 't = %.5g' % (t)\n",
    "print 'p = %.5g' % (p)"
   ]
  },
  {
   "cell_type": "markdown",
   "metadata": {},
   "source": [
    "A $p$-value of 93%,"
   ]
  },
  {
   "cell_type": "markdown",
   "metadata": {},
   "source": [
    "A $t$-statistic is often used to test a null hypothesis about two means; most often, it tests the hypothesis that two means are equal, or that the difference between them is zero.  In this case, [Welch's t-test](https://en.wikipedia.org/wiki/Welch%27s_t-test) is used. In Welch's t-test, there are two different data samples which in general have different, unknown variances.\n",
    "\n",
    "$t = {\\;\\overline {X}_{1}-\\overline {X}_{2}\\; \\over {\\sqrt  {\\;{s_{1}^{2} \\over N_{1}}\\;+\\;{s_{2}^{2} \\over N_{2}}\\quad }}}\\,$"
   ]
  },
  {
   "cell_type": "code",
   "execution_count": 10,
   "metadata": {},
   "outputs": [
    {
     "name": "stdout",
     "output_type": "stream",
     "text": [
      "t = -24.82\n",
      "p = 7.5819e-83\n"
     ]
    }
   ],
   "source": [
    "xdata1 = df[df['label']==1]['x']\n",
    "result = stats.ttest_ind(xdata0, xdata1)\n",
    "t = result.statistic\n",
    "p = result.pvalue\n",
    "print 't = %.5g' % (t)\n",
    "print 'p = %.5g' % (p)"
   ]
  },
  {
   "cell_type": "code",
   "execution_count": 11,
   "metadata": {},
   "outputs": [
    {
     "name": "stdout",
     "output_type": "stream",
     "text": [
      "t = 1.4067\n",
      "p = 0.16076\n"
     ]
    }
   ],
   "source": [
    "xdata2 = df[df['label']==2]['x']\n",
    "result = stats.ttest_ind(xdata1, xdata2)\n",
    "t = result.statistic\n",
    "p = result.pvalue\n",
    "print 't = %.5g' % (t)\n",
    "print 'p = %.5g' % (p)"
   ]
  },
  {
   "cell_type": "markdown",
   "metadata": {},
   "source": [
    "For [example](http://www.theseashore.org.uk/theseashore/Stats%20for%20twits/T%20Test.html), we could test whether men and women have the same average weight.\n",
    "\n",
    "Let's say we have series of measurements of weight in kg and sex (0=male, 1=female):\n",
    "\n",
    "TODO"
   ]
  },
  {
   "cell_type": "code",
   "execution_count": null,
   "metadata": {},
   "outputs": [],
   "source": []
  },
  {
   "cell_type": "markdown",
   "metadata": {},
   "source": [
    "Abstractly, a $t$ statistic with $k$ degrees of freedom can be constructed by dividing a normally distributed random variable by an independent $\\chi^{2}_{k}$ distribution:\n",
    "\n",
    "$t_k = \\frac{Z_0}{\\sqrt{\\left(\\sum_i^k Z_i^2\\right) / k}} \\sim \\frac{N(0, 1)}{\\sqrt{\\chi^{2}_{k} / k}}$\n",
    "\n",
    "For more details, see [Allwood (2008)](https://secure-media.collegeboard.org/apc/ap05_stats_allwood_fin4prod.pdf)."
   ]
  },
  {
   "cell_type": "code",
   "execution_count": null,
   "metadata": {},
   "outputs": [],
   "source": []
  },
  {
   "cell_type": "markdown",
   "metadata": {},
   "source": [
    "## $\\chi^2$ statistic\n",
    "\n",
    "Often we are interested in measuring some rate of interest, $\\rho \\in [0, 1]$, that can be thought of as a success rate or conversion rate: the fraction of events that did something of interest.  In the framework of A/B-testing, not only do we want to measure a parameter of interest, but we want to see if it is *significantly* different between two samples: $A$ and $B$. Often sample $A$ is thought of as the original or control version, and in sample $B$, we have made some kind of systematic change, and we want to test if that *significantly* changes $\\rho$.\n",
    "\n",
    "TODO:\n",
    "\n",
    "-   $\\chi^2$ uses categorical/binned data"
   ]
  },
  {
   "cell_type": "markdown",
   "metadata": {},
   "source": [
    "**Following the blitzresults.com example**\n",
    "\n",
    "Working out the example [here](http://www.blitzresults.com/en/ab-tests/) with the $\\chi^2$ method."
   ]
  },
  {
   "cell_type": "code",
   "execution_count": 12,
   "metadata": {},
   "outputs": [],
   "source": [
    "##=============================================================================\n",
    "## USER INPUT\n",
    "##=============================================================================\n",
    "N_A1 =  960.  # not converted, sample A\n",
    "N_A2 =   40.  # converted, sample A\n",
    "N_B1 = 1120.  # not converted, sample B\n",
    "N_B2 =   80.  # converted, sample B"
   ]
  },
  {
   "cell_type": "markdown",
   "metadata": {},
   "source": [
    "First, let's calculate the conversion rate from the total number of events and conversions."
   ]
  },
  {
   "cell_type": "code",
   "execution_count": 13,
   "metadata": {},
   "outputs": [
    {
     "name": "stdout",
     "output_type": "stream",
     "text": [
      "Conversion rate, rho = 0.054545\n"
     ]
    }
   ],
   "source": [
    "#______________________________________________________________________________\n",
    "def a_b_test_conversion_rate(N_A1, N_A2, N_B1, N_B2):\n",
    "    N_1 = N_A1 + N_B1\n",
    "    N_2 = N_A2 + N_B2\n",
    "    rho = N_2/(N_1+N_2)\n",
    "    return rho\n",
    "\n",
    "rho = a_b_test_conversion_rate(N_A1, N_A2, N_B1, N_B2)\n",
    "print 'Conversion rate, rho = %.5g' % (rho)"
   ]
  },
  {
   "cell_type": "markdown",
   "metadata": {},
   "source": [
    "In general, when calculating $\\chi^2$ for comparing the goodness of fit of a model to the observed data:\n",
    "\n",
    "$\\chi^2 = \\sum_{i} \\frac{(O_i - E_i)^2}{E_i}$\n",
    "\n",
    "Assuming the conversion rate is the same among samples $A$ and $B$,\n",
    "\n",
    "$\\chi^2 = \\frac{(N_{A1} - N_{A}*(1-\\rho))^2}{N_{A}*(1-\\rho)} + \\frac{(N_{A2} - N_{A}*\\rho)^2}{N_{A}*\\rho} + \\frac{(N_{B1} - N_{B}*(1-\\rho))^2}{N_{B}*(1-\\rho)} + \\frac{(N_{B2} - N_{B}*\\rho)^2}{N_{B}*\\rho}$"
   ]
  },
  {
   "cell_type": "code",
   "execution_count": 14,
   "metadata": {},
   "outputs": [
    {
     "name": "stdout",
     "output_type": "stream",
     "text": [
      "chi2 = 7.5214\n"
     ]
    }
   ],
   "source": [
    "def a_b_test_chi2(N_A1, N_A2, N_B1, N_B2):\n",
    "    N_A = N_A1 + N_A2\n",
    "    N_B = N_B1 + N_B2\n",
    "    N_1 = N_A1 + N_B1\n",
    "    N_2 = N_A2 + N_B2\n",
    "    rho = N_2/(N_1+N_2)\n",
    "    chi2 = ((N_A1 - N_A*(1-rho))**2)/(N_A*(1-rho)) + \\\n",
    "           ((N_A2 - N_A*rho)**2)/(N_A*rho) + \\\n",
    "           ((N_B1 - N_B*(1-rho))**2)/(N_B*(1-rho)) + \\\n",
    "           ((N_B2 - N_B*rho)**2)/(N_B*rho)\n",
    "    ## checking the chi2 term-by-term:\n",
    "    #print '%.5g' % (((N_A1 - N_A*(1-rho))**2)/(N_A*(1-rho)))\n",
    "    #print '%.5g' % (((N_A2 - N_A*rho)**2)/(N_A*rho))\n",
    "    #print '%.5g' % (((N_B1 - N_B*(1-rho))**2)/(N_B*(1-rho)))\n",
    "    #print '%.5g' % (((N_B2 - N_B*rho)**2)/(N_B*rho))\n",
    "    return chi2\n",
    "        \n",
    "chi2 = a_b_test_chi2(N_A1, N_A2, N_B1, N_B2)\n",
    "print 'chi2 = %.5g' % (chi2)"
   ]
  },
  {
   "cell_type": "markdown",
   "metadata": {},
   "source": [
    "Comparing this $\\chi^2$ value with a [table of critical values](https://home.ubalt.edu/ntsbarsh/Business-stat/StatistialTables.pdf), with degrees of freedom = 1,\n",
    "shows that the corresponding $p$-value for $\\chi^2$ = 7.52 to be smaller than 1%, which corresponds to $\\chi^2$ = 6.635.  Note that degrees of freedom is 1 because there is only one free parameter in the model: $\\rho$.\n",
    "\n",
    "![](media/critical-values-of-chi2.png)\n",
    "\n",
    "Instead of looking up the $p$-value in a table, we can also calculate it with `scipy.stats`:"
   ]
  },
  {
   "cell_type": "code",
   "execution_count": 15,
   "metadata": {},
   "outputs": [
    {
     "name": "stdout",
     "output_type": "stream",
     "text": [
      "chi2 = 7.5214\n",
      "p    = 0.0060971\n",
      "dof  = 1\n",
      "expected = [[  945.45454545    54.54545455]\n",
      " [ 1134.54545455    65.45454545]]\n"
     ]
    }
   ],
   "source": [
    "obs = [[N_A1, N_A2], [N_B1, N_B2]]\n",
    "chi2, p, dof, ex = stats.chi2_contingency(obs, correction=False)\n",
    "print 'chi2 = %.5g' % (chi2)\n",
    "print 'p    = %.5g' % (p)\n",
    "print 'dof  = %.5g' % (dof)\n",
    "print 'expected = %s' % (ex)"
   ]
  },
  {
   "cell_type": "markdown",
   "metadata": {},
   "source": [
    "So the $p$-value is 0.6%, rather significant.\n",
    "\n",
    "Above, `correction=False` means that we do not do the [Yates' correction](https://en.wikipedia.org/wiki/Yates%27s_correction_for_continuity)."
   ]
  },
  {
   "cell_type": "markdown",
   "metadata": {},
   "source": [
    "**Following the Data Science From Scratch, p. 88**"
   ]
  },
  {
   "cell_type": "code",
   "execution_count": 16,
   "metadata": {},
   "outputs": [],
   "source": [
    "def normal_approximation_to_binomial(n, p):\n",
    "    \"\"\"Returns mu and sigma corresponding to Binomial(n, p)\"\"\"\n",
    "    mu = p*n\n",
    "    sigma = math.sqrt(p*(1-p)*n)\n",
    "    return mu, sigma"
   ]
  },
  {
   "cell_type": "markdown",
   "metadata": {},
   "source": [
    "**Following the elegantthemes.com example**\n",
    "\n",
    "Working out another example [here](https://www.elegantthemes.com/blog/resources/how-to-determine-statistical-significance-when-ab-testing-with-divi-leads) with the $\\chi^2$ method."
   ]
  },
  {
   "cell_type": "code",
   "execution_count": 17,
   "metadata": {},
   "outputs": [],
   "source": [
    "##=============================================================================\n",
    "## USER INPUT\n",
    "##=============================================================================\n",
    "N_A1 = 976.  # not converted, sample A\n",
    "N_A2 =  43.  # converted, sample A\n",
    "N_B1 = 992.  # not converted, sample B\n",
    "N_B2 =  34.  # converted, sample B"
   ]
  },
  {
   "cell_type": "code",
   "execution_count": 18,
   "metadata": {},
   "outputs": [
    {
     "name": "stdout",
     "output_type": "stream",
     "text": [
      "chi2 = 1.1581\n",
      "p    = 0.28186\n",
      "dof  = 1\n",
      "expected = [[ 980.63178484   38.36821516]\n",
      " [ 987.36821516   38.63178484]]\n"
     ]
    }
   ],
   "source": [
    "obs = [[N_A1, N_A2], [N_B1, N_B2]]\n",
    "chi2, p, dof, ex = stats.chi2_contingency(obs, correction=False)\n",
    "print 'chi2 = %.5g' % (chi2)\n",
    "print 'p    = %.5g' % (p)\n",
    "print 'dof  = %.5g' % (dof)\n",
    "print 'expected = %s' % (ex)"
   ]
  },
  {
   "cell_type": "markdown",
   "metadata": {},
   "source": [
    "Having a $p$-value of 28%, I wouldn't say there is a significant difference in samples $A$ and $B$."
   ]
  },
  {
   "cell_type": "code",
   "execution_count": 19,
   "metadata": {},
   "outputs": [],
   "source": [
    "## TODO: compare with scipy.stats.binom_test"
   ]
  },
  {
   "cell_type": "markdown",
   "metadata": {},
   "source": [
    "## See also\n",
    "\n",
    "References:\n",
    "\n",
    "-   [Wikipedia: Confidence interval](https://en.wikipedia.org/wiki/Confidence_interval)\n",
    "-   [Wikipedia: Lady tasting tea](https://en.wikipedia.org/wiki/Lady_tasting_tea)\n",
    "-   [Wikipedia: Student's $t$-test](https://en.wikipedia.org/wiki/Student%27s_t-test)\n",
    "-   [Wikipedia: Welch's $t$-test](https://en.wikipedia.org/wiki/Welch%27s_t-test)\n",
    "-   [Wikipedia: Binomial proportion confidence interval](https://en.wikipedia.org/wiki/Binomial_proportion_confidence_interval)\n",
    "-   [Wikipedia: Rule of three](https://en.wikipedia.org/wiki/Rule_of_three_%28statistics%29)\n",
    "-   [Tables of critical values](https://home.ubalt.edu/ntsbarsh/Business-stat/StatistialTables.pdf)\n",
    "-   [Statistics for Dummies Cheat Sheet](http://www.dummies.com/education/math/statistics/statistics-for-dummies-cheat-sheet/)\n",
    "-   [Leemis & McQueston (2008). Univariate Distribution Relationships.](http://www.stat.rice.edu/~dobelman/courses/texts/leemis.distributions.2008amstat.pdf)\n",
    "\n",
    "Illuminating discussions:\n",
    "\n",
    "-   [KhanAcademy: hypothesis testing videos](https://www.khanacademy.org/math/statistics-probability/significance-tests-one-sample/more-significance-testing-videos/v/large-sample-proportion-hypothesis-testing)\n",
    "-   [Quora: What is an intuitive explanation for how the $t$, $z$, and $\\chi^2$-distributions are related?](https://www.quora.com/What-is-an-intuitive-explanation-for-how-the-t-distribution-normal-distribution-F-distribution-and-Chi-square-distribution-relate-to-each-other-Why-do-all-these-different-distributions-exist-and-when-do-we-use-each-in-statistical-testing/answer/Chandrima-Das)\n",
    "-   [Quora: How can I do an A/B test in Python?](https://www.quora.com/How-can-I-do-an-A-B-test-in-Python)\n",
    "-   [Allwood, M. (2008). The Satterthwaite Formula for degrees of freedom in the two-sample $t$-test.](https://secure-media.collegeboard.org/apc/ap05_stats_allwood_fin4prod.pdf)\n",
    "-   [A/B Testing Statistics: An intuitive guide for non-mathematicians](https://conversionsciences.com/blog/ab-testing-statistics/)\n",
    "\n",
    "Some worked examples:\n",
    "\n",
    "-   [Stats notes at The Seashore](http://www.theseashore.org.uk/theseashore/Stats%20for%20twits/T%20Test.html)\n",
    "-   [$\\chi^2$-test for A/B-tests at blitzresults.com](http://www.blitzresults.com/en/ab-tests)\n",
    "-   [$\\chi^2$-test for A/B-tests at elegantthemes.com](https://www.elegantthemes.com/blog/resources/how-to-determine-statistical-significance-when-ab-testing-with-divi-leads)\n",
    "-   [$\\chi^2$-test for independence (biology example)](https://www.biologyforlife.com/x2-test-for-independence.html)\n",
    "-   [2-sample $t$-test for A/B-tests in R](https://rexplorations.wordpress.com/2015/08/13/hypothesis-tests-2-sample-tests-ab-tests/)\n",
    "-   [A/B Testing with Hierarchical Models in Python (Bayesian)](https://blog.dominodatalab.com/ab-testing-with-hierarchical-models-in-python/)\n",
    "\n",
    "Toolkits:\n",
    "\n",
    "-   [scipy.stats](https://docs.scipy.org/doc/scipy-0.18.0/reference/stats.html)\n",
    "-   [scipy.stats.ttest_1samp](https://docs.scipy.org/doc/scipy-0.18.0/reference/generated/scipy.stats.ttest_1samp.html#scipy.stats.ttest_1samp)\n",
    "-   [scipy.stats.ttest_ind](https://docs.scipy.org/doc/scipy-0.18.0/reference/generated/scipy.stats.ttest_ind.html#scipy.stats.ttest_ind)\n",
    "-   [scipy.stats.zscore](https://docs.scipy.org/doc/scipy-0.18.0/reference/generated/scipy.stats.zscore.html#scipy.stats.zscore)\n",
    "\n",
    "Maybes:\n",
    "\n",
    "-   [are-different-p-values-for-chi-squared-and-z-test-expected](https://stats.stackexchange.com/questions/141547/are-different-p-values-for-chi-squared-and-z-test-expected-for-testing-differenc)\n",
    "-   [a-b-tests-z-test-vs-t-test-vs-chi-square-vs-fisher-exact-test](https://stats.stackexchange.com/questions/178854/a-b-tests-z-test-vs-t-test-vs-chi-square-vs-fisher-exact-test)\n",
    "-   [difference-between-ttest-chi-square](https://sciencing.com/difference-between-ttest-chi-square-8225095.html)\n",
    "\n"
   ]
  },
  {
   "cell_type": "markdown",
   "metadata": {},
   "source": [
    "## Taken from Mark"
   ]
  },
  {
   "cell_type": "code",
   "execution_count": 20,
   "metadata": {},
   "outputs": [],
   "source": [
    "#from statsmodels.stats.proportion import proportions_ztest\n",
    "#\n",
    "#count = np.array([4031, 1777])\n",
    "#nobs = np.array([202672, 114128])\n",
    "#proportions_ztest(count,nobs,value=None, alternative='two-sided')\n",
    "## stat, pval =proportions_ztest(count, nobs, value)\n",
    "## print('%.80f' % pval)"
   ]
  },
  {
   "cell_type": "code",
   "execution_count": 21,
   "metadata": {},
   "outputs": [],
   "source": [
    "#import statsmodels.stats.api as sms\n",
    "#es = sms.proportion_effectsize(0.019889, 0.015570)\n",
    "#sms.NormalIndPower().solve_power(es, power=0.8, alpha=0.05, ratio=1)"
   ]
  }
 ],
 "metadata": {
  "kernelspec": {
   "display_name": "Python 2",
   "language": "python",
   "name": "python2"
  },
  "language_info": {
   "codemirror_mode": {
    "name": "ipython",
    "version": 2
   },
   "file_extension": ".py",
   "mimetype": "text/x-python",
   "name": "python",
   "nbconvert_exporter": "python",
   "pygments_lexer": "ipython2",
   "version": "2.7.13"
  }
 },
 "nbformat": 4,
 "nbformat_minor": 2
}
