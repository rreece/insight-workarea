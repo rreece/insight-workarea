{
 "cells": [
  {
   "cell_type": "markdown",
   "metadata": {},
   "source": [
    "# Confidence intervals and A/B testing\n",
    "\n",
    "Ryan Reece     \n",
    "2018-02-26"
   ]
  },
  {
   "cell_type": "markdown",
   "metadata": {},
   "source": [
    "## Introduction"
   ]
  },
  {
   "cell_type": "code",
   "execution_count": null,
   "metadata": {},
   "outputs": [],
   "source": []
  },
  {
   "cell_type": "markdown",
   "metadata": {},
   "source": [
    "## Following the blitzresults.com example\n",
    "\n",
    "Working out the example [here](http://www.blitzresults.com/en/ab-tests/) with the $\\chi^2$ method."
   ]
  },
  {
   "cell_type": "code",
   "execution_count": 1,
   "metadata": {},
   "outputs": [
    {
     "name": "stdout",
     "output_type": "stream",
     "text": [
      "0.0545454545455\n"
     ]
    }
   ],
   "source": [
    "N_A1 = 960.\n",
    "N_A2 =  40.\n",
    "N_B1 = 1120.\n",
    "N_B2 =  80.\n",
    "N_A = N_A1 + N_A2\n",
    "N_B = N_B1 + N_B2\n",
    "N_1 = N_A1 + N_B1\n",
    "N_2 = N_A2 + N_B2\n",
    "rho = N_2/(N_1+N_2)\n",
    "print rho"
   ]
  },
  {
   "cell_type": "code",
   "execution_count": 4,
   "metadata": {},
   "outputs": [
    {
     "name": "stdout",
     "output_type": "stream",
     "text": [
      "7.52136752137\n"
     ]
    }
   ],
   "source": [
    "chi2 = ((N_A1 - N_A*(1-rho))**2)/(N_A*(1-rho)) + ((N_A2 - N_A*rho)**2)/(N_A*rho) + ((N_B1 - N_B*(1-rho))**2)/(N_B*(1-rho)) + ((N_B2 - N_B*rho)**2)/(N_B*rho)\n",
    "print chi2"
   ]
  },
  {
   "cell_type": "markdown",
   "metadata": {},
   "source": [
    "Checking the $\\chi^2$ term-by-term:"
   ]
  },
  {
   "cell_type": "code",
   "execution_count": 7,
   "metadata": {},
   "outputs": [
    {
     "name": "stdout",
     "output_type": "stream",
     "text": [
      "0.223776223776\n",
      "3.87878787879\n",
      "0.18648018648\n",
      "3.23232323232\n"
     ]
    }
   ],
   "source": [
    "print ((N_A1 - N_A*(1-rho))**2)/(N_A*(1-rho))\n",
    "print ((N_A2 - N_A*rho)**2)/(N_A*rho)\n",
    "print ((N_B1 - N_B*(1-rho))**2)/(N_B*(1-rho))\n",
    "print ((N_B2 - N_B*rho)**2)/(N_B*rho)"
   ]
  },
  {
   "cell_type": "code",
   "execution_count": null,
   "metadata": {},
   "outputs": [],
   "source": []
  },
  {
   "cell_type": "markdown",
   "metadata": {},
   "source": [
    "## See also\n",
    "\n",
    "References:\n",
    "\n",
    "-   [Wikipedia: Lady tasting tea](https://en.wikipedia.org/wiki/Lady_tasting_tea)\n",
    "-   [Wikipedia: Student's $t$-test](https://en.wikipedia.org/wiki/Student%27s_t-test)\n",
    "-   [Wikipedia: Welch's $t$-test](https://en.wikipedia.org/wiki/Welch%27s_t-test)\n",
    "-   [Tables of critical values](https://home.ubalt.edu/ntsbarsh/Business-stat/StatistialTables.pdf)\n",
    "\n",
    "Illuminating discussions:\n",
    "\n",
    "-   [KhanAcademy: hypothesis testing videos](https://www.khanacademy.org/math/statistics-probability/significance-tests-one-sample/more-significance-testing-videos/v/large-sample-proportion-hypothesis-testing)\n",
    "-   [Quora: What is an intuitive explanation for how the $t$, $z$, and $\\chi^2$-distributions are related?](https://www.quora.com/What-is-an-intuitive-explanation-for-how-the-t-distribution-normal-distribution-F-distribution-and-Chi-square-distribution-relate-to-each-other-Why-do-all-these-different-distributions-exist-and-when-do-we-use-each-in-statistical-testing/answer/Chandrima-Das)\n",
    "-   [Quora: How can I do an A/B test in Python?](https://www.quora.com/How-can-I-do-an-A-B-test-in-Python)\n",
    "-   [The Satterthwaite Formula for Degrees of Freedom in the Two-Sample $t$-Test](https://secure-media.collegeboard.org/apc/ap05_stats_allwood_fin4prod.pdf)\n",
    "-   [A/B Testing Statistics: An Intuitive Guide For Non-Mathematicians](https://conversionsciences.com/blog/ab-testing-statistics/)\n",
    "\n",
    "Some worked examples:\n",
    "\n",
    "-   [Stats notes at The Seashore](http://www.theseashore.org.uk/theseashore/Stats%20for%20twits/T%20Test.html)\n",
    "-   [$\\chi^2$-test for independence (biology example)](https://www.biologyforlife.com/x2-test-for-independence.html)\n",
    "-   [$\\chi^2$-test for A/B-tests at blitzresults.com](http://www.blitzresults.com/en/ab-tests)\n",
    "-   [$\\chi^2$-test for A/B-tests at elegantthemes.com](https://www.elegantthemes.com/blog/resources/how-to-determine-statistical-significance-when-ab-testing-with-divi-leads)\n",
    "-   [2-sample $t$-test for A/B-tests in R](https://rexplorations.wordpress.com/2015/08/13/hypothesis-tests-2-sample-tests-ab-tests/)\n",
    "-   [A/B Testing with Hierarchical Models in Python (Bayesian)](https://blog.dominodatalab.com/ab-testing-with-hierarchical-models-in-python/)\n",
    "\n",
    "Toolkits:\n",
    "\n",
    "-   [scipy.stats.ttest_ind](https://docs.scipy.org/doc/scipy-0.14.0/reference/generated/scipy.stats.ttest_ind.html)\n",
    "\n",
    "Stackexchange maybes:\n",
    "\n",
    "-   [are-different-p-values-for-chi-squared-and-z-test-expected](https://stats.stackexchange.com/questions/141547/are-different-p-values-for-chi-squared-and-z-test-expected-for-testing-differenc)\n",
    "-   [a-b-tests-z-test-vs-t-test-vs-chi-square-vs-fisher-exact-test](https://stats.stackexchange.com/questions/178854/a-b-tests-z-test-vs-t-test-vs-chi-square-vs-fisher-exact-test)\n",
    "\n"
   ]
  },
  {
   "cell_type": "markdown",
   "metadata": {},
   "source": [
    "## Taken from Mark"
   ]
  },
  {
   "cell_type": "code",
   "execution_count": 5,
   "metadata": {},
   "outputs": [],
   "source": [
    "#from statsmodels.stats.proportion import proportions_ztest\n",
    "#\n",
    "#count = np.array([4031, 1777])\n",
    "#nobs = np.array([202672, 114128])\n",
    "#proportions_ztest(count,nobs,value=None, alternative='two-sided')\n",
    "## stat, pval =proportions_ztest(count, nobs, value)\n",
    "## print('%.80f' % pval)"
   ]
  },
  {
   "cell_type": "code",
   "execution_count": 6,
   "metadata": {},
   "outputs": [],
   "source": [
    "#import statsmodels.stats.api as sms\n",
    "#es = sms.proportion_effectsize(0.019889, 0.015570)\n",
    "#sms.NormalIndPower().solve_power(es, power=0.8, alpha=0.05, ratio=1)"
   ]
  }
 ],
 "metadata": {
  "kernelspec": {
   "display_name": "Python 2",
   "language": "python",
   "name": "python2"
  },
  "language_info": {
   "codemirror_mode": {
    "name": "ipython",
    "version": 2
   },
   "file_extension": ".py",
   "mimetype": "text/x-python",
   "name": "python",
   "nbconvert_exporter": "python",
   "pygments_lexer": "ipython2",
   "version": "2.7.13"
  }
 },
 "nbformat": 4,
 "nbformat_minor": 2
}
